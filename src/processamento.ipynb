{
 "cells": [
  {
   "cell_type": "code",
   "execution_count": null,
   "metadata": {},
   "outputs": [],
   "source": [
    "import pandas as pd\n",
    "import numpy as np\n",
    "%matplolib inline"
   ]
  },
  {
   "cell_type": "code",
   "execution_count": 10,
   "metadata": {},
   "outputs": [
    {
     "data": {
      "text/html": [
       "<div>\n",
       "<style scoped>\n",
       "    .dataframe tbody tr th:only-of-type {\n",
       "        vertical-align: middle;\n",
       "    }\n",
       "\n",
       "    .dataframe tbody tr th {\n",
       "        vertical-align: top;\n",
       "    }\n",
       "\n",
       "    .dataframe thead th {\n",
       "        text-align: right;\n",
       "    }\n",
       "</style>\n",
       "<table border=\"1\" class=\"dataframe\">\n",
       "  <thead>\n",
       "    <tr style=\"text-align: right;\">\n",
       "      <th></th>\n",
       "      <th>simplificado</th>\n",
       "      <th>tradicional</th>\n",
       "      <th>pinyin_num</th>\n",
       "      <th>pinyin_carac</th>\n",
       "      <th>significado</th>\n",
       "    </tr>\n",
       "  </thead>\n",
       "  <tbody>\n",
       "    <tr>\n",
       "      <th>0</th>\n",
       "      <td>我</td>\n",
       "      <td>我</td>\n",
       "      <td>wo3</td>\n",
       "      <td>wǒ</td>\n",
       "      <td>I; me</td>\n",
       "    </tr>\n",
       "    <tr>\n",
       "      <th>1</th>\n",
       "      <td>你</td>\n",
       "      <td>你</td>\n",
       "      <td>ni3</td>\n",
       "      <td>nǐ</td>\n",
       "      <td>you (singular)</td>\n",
       "    </tr>\n",
       "    <tr>\n",
       "      <th>2</th>\n",
       "      <td>是</td>\n",
       "      <td>是</td>\n",
       "      <td>shi4</td>\n",
       "      <td>shì</td>\n",
       "      <td>be; is; are; am</td>\n",
       "    </tr>\n",
       "    <tr>\n",
       "      <th>3</th>\n",
       "      <td>了</td>\n",
       "      <td>了</td>\n",
       "      <td>le5</td>\n",
       "      <td>le</td>\n",
       "      <td>indicates a completed or finished action</td>\n",
       "    </tr>\n",
       "    <tr>\n",
       "      <th>4</th>\n",
       "      <td>不</td>\n",
       "      <td>不</td>\n",
       "      <td>bu4</td>\n",
       "      <td>bù</td>\n",
       "      <td>no; not</td>\n",
       "    </tr>\n",
       "    <tr>\n",
       "      <th>...</th>\n",
       "      <td>...</td>\n",
       "      <td>...</td>\n",
       "      <td>...</td>\n",
       "      <td>...</td>\n",
       "      <td>...</td>\n",
       "    </tr>\n",
       "    <tr>\n",
       "      <th>144</th>\n",
       "      <td>杯子</td>\n",
       "      <td>杯子</td>\n",
       "      <td>bei1zi5</td>\n",
       "      <td>bēizi</td>\n",
       "      <td>cup; glass</td>\n",
       "    </tr>\n",
       "    <tr>\n",
       "      <th>145</th>\n",
       "      <td>下雨</td>\n",
       "      <td>下雨</td>\n",
       "      <td>xia4yu3</td>\n",
       "      <td>xiàyǔ</td>\n",
       "      <td>to rain</td>\n",
       "    </tr>\n",
       "    <tr>\n",
       "      <th>146</th>\n",
       "      <td>米饭</td>\n",
       "      <td>米飯</td>\n",
       "      <td>mi3fan4</td>\n",
       "      <td>mǐfàn</td>\n",
       "      <td>(cooked) rice</td>\n",
       "    </tr>\n",
       "    <tr>\n",
       "      <th>147</th>\n",
       "      <td>北京</td>\n",
       "      <td>北京</td>\n",
       "      <td>Bei3jing1</td>\n",
       "      <td>Běijīng</td>\n",
       "      <td>Beijing</td>\n",
       "    </tr>\n",
       "    <tr>\n",
       "      <th>148</th>\n",
       "      <td>汉语</td>\n",
       "      <td>漢語</td>\n",
       "      <td>Han4yu3</td>\n",
       "      <td>Hànyǔ</td>\n",
       "      <td>Chinese language</td>\n",
       "    </tr>\n",
       "  </tbody>\n",
       "</table>\n",
       "<p>149 rows × 5 columns</p>\n",
       "</div>"
      ],
      "text/plain": [
       "    simplificado tradicional pinyin_num pinyin_carac  \\\n",
       "0              我           我        wo3           wǒ   \n",
       "1              你           你        ni3           nǐ   \n",
       "2              是           是       shi4          shì   \n",
       "3              了           了        le5           le   \n",
       "4              不           不        bu4           bù   \n",
       "..           ...         ...        ...          ...   \n",
       "144           杯子          杯子    bei1zi5        bēizi   \n",
       "145           下雨          下雨    xia4yu3        xiàyǔ   \n",
       "146           米饭          米飯    mi3fan4        mǐfàn   \n",
       "147           北京          北京  Bei3jing1      Běijīng   \n",
       "148           汉语          漢語    Han4yu3        Hànyǔ   \n",
       "\n",
       "                                  significado  \n",
       "0                                       I; me  \n",
       "1                              you (singular)  \n",
       "2                             be; is; are; am  \n",
       "3    indicates a completed or finished action  \n",
       "4                                     no; not  \n",
       "..                                        ...  \n",
       "144                                cup; glass  \n",
       "145                                   to rain  \n",
       "146                             (cooked) rice  \n",
       "147                                   Beijing  \n",
       "148                          Chinese language  \n",
       "\n",
       "[149 rows x 5 columns]"
      ]
     },
     "execution_count": 10,
     "metadata": {},
     "output_type": "execute_result"
    }
   ],
   "source": [
    "DATA_PATH = \"../data/HSK Official With Definitions 2012 L1 freqorder.txt\"\n",
    "\n",
    "df = pd.read_csv(DATA_PATH, sep='\\t', header=0, names=['simplificado', 'tradicional', 'pinyin_num', 'pinyin_carac', 'significado'])\n",
    "df"
   ]
  },
  {
   "cell_type": "code",
   "execution_count": 31,
   "metadata": {},
   "outputs": [],
   "source": [
    "palavras = df['simplificado']"
   ]
  },
  {
   "cell_type": "code",
   "execution_count": 46,
   "metadata": {},
   "outputs": [
    {
     "data": {
      "text/plain": [
       "[0      我\n",
       " 1      你\n",
       " 2      是\n",
       " 3      了\n",
       " 4      不\n",
       "       ..\n",
       " 144    杯\n",
       " 145    下\n",
       " 146    米\n",
       " 147    北\n",
       " 148    汉\n",
       " Name: simplificado, Length: 149, dtype: object,\n",
       " 7      们\n",
       " 13     么\n",
       " 29     有\n",
       " 31     么\n",
       " 32     在\n",
       "       ..\n",
       " 144    子\n",
       " 145    雨\n",
       " 146    饭\n",
       " 147    京\n",
       " 148    语\n",
       " Name: simplificado, Length: 68, dtype: object,\n",
       " 65     样\n",
       " 66     起\n",
       " 84     话\n",
       " 105    系\n",
       " 124    气\n",
       " 131    车\n",
       " 138    儿\n",
       " Name: simplificado, dtype: object]"
      ]
     },
     "execution_count": 46,
     "metadata": {},
     "output_type": "execute_result"
    }
   ],
   "source": [
    "ideo = list()\n",
    "for i in range(0, palavras.str.len().max()):\n",
    "    ideo.append(palavras.str[i].dropna())\n",
    "ideo"
   ]
  },
  {
   "cell_type": "code",
   "execution_count": 64,
   "metadata": {},
   "outputs": [
    {
     "name": "stderr",
     "output_type": "stream",
     "text": [
      "<ipython-input-64-595b9964a9b8>:1: DeprecationWarning: The default dtype for empty Series will be 'object' instead of 'float64' in a future version. Specify a dtype explicitly to silence this warning.\n",
      "  lista = pd.Series()\n"
     ]
    },
    {
     "data": {
      "text/plain": [
       "0      我\n",
       "1      你\n",
       "2      是\n",
       "3      了\n",
       "4      不\n",
       "      ..\n",
       "84     话\n",
       "105    系\n",
       "124    气\n",
       "131    车\n",
       "138    儿\n",
       "Length: 224, dtype: object"
      ]
     },
     "execution_count": 64,
     "metadata": {},
     "output_type": "execute_result"
    }
   ],
   "source": [
    "lista = pd.Series()\n",
    "for i in ideo:\n",
    "    lista = lista.append(i)\n",
    "lista"
   ]
  },
  {
   "cell_type": "code",
   "execution_count": 62,
   "metadata": {},
   "outputs": [
    {
     "data": {
      "text/plain": [
       "28     上\n",
       "142    上\n",
       "dtype: object"
      ]
     },
     "execution_count": 62,
     "metadata": {},
     "output_type": "execute_result"
    }
   ],
   "source": [
    "lista[lista == '上']"
   ]
  },
  {
   "cell_type": "code",
   "execution_count": 65,
   "metadata": {},
   "outputs": [],
   "source": [
    "lista = lista.reset_index(drop=True)"
   ]
  },
  {
   "cell_type": "code",
   "execution_count": 75,
   "metadata": {},
   "outputs": [
    {
     "data": {
      "text/html": [
       "<div>\n",
       "<style scoped>\n",
       "    .dataframe tbody tr th:only-of-type {\n",
       "        vertical-align: middle;\n",
       "    }\n",
       "\n",
       "    .dataframe tbody tr th {\n",
       "        vertical-align: top;\n",
       "    }\n",
       "\n",
       "    .dataframe thead th {\n",
       "        text-align: right;\n",
       "    }\n",
       "</style>\n",
       "<table border=\"1\" class=\"dataframe\">\n",
       "  <thead>\n",
       "    <tr style=\"text-align: right;\">\n",
       "      <th></th>\n",
       "      <th>caracter</th>\n",
       "      <th>qtd</th>\n",
       "    </tr>\n",
       "  </thead>\n",
       "  <tbody>\n",
       "    <tr>\n",
       "      <th>73</th>\n",
       "      <td>天</td>\n",
       "      <td>4</td>\n",
       "    </tr>\n",
       "    <tr>\n",
       "      <th>31</th>\n",
       "      <td>儿</td>\n",
       "      <td>4</td>\n",
       "    </tr>\n",
       "    <tr>\n",
       "      <th>82</th>\n",
       "      <td>学</td>\n",
       "      <td>4</td>\n",
       "    </tr>\n",
       "    <tr>\n",
       "      <th>80</th>\n",
       "      <td>子</td>\n",
       "      <td>4</td>\n",
       "    </tr>\n",
       "    <tr>\n",
       "      <th>133</th>\n",
       "      <td>电</td>\n",
       "      <td>4</td>\n",
       "    </tr>\n",
       "    <tr>\n",
       "      <th>...</th>\n",
       "      <td>...</td>\n",
       "      <td>...</td>\n",
       "    </tr>\n",
       "    <tr>\n",
       "      <th>74</th>\n",
       "      <td>太</td>\n",
       "      <td>1</td>\n",
       "    </tr>\n",
       "    <tr>\n",
       "      <th>27</th>\n",
       "      <td>作</td>\n",
       "      <td>1</td>\n",
       "    </tr>\n",
       "    <tr>\n",
       "      <th>72</th>\n",
       "      <td>大</td>\n",
       "      <td>1</td>\n",
       "    </tr>\n",
       "    <tr>\n",
       "      <th>28</th>\n",
       "      <td>你</td>\n",
       "      <td>1</td>\n",
       "    </tr>\n",
       "    <tr>\n",
       "      <th>172</th>\n",
       "      <td>高</td>\n",
       "      <td>1</td>\n",
       "    </tr>\n",
       "  </tbody>\n",
       "</table>\n",
       "<p>173 rows × 2 columns</p>\n",
       "</div>"
      ],
      "text/plain": [
       "    caracter  qtd\n",
       "73         天    4\n",
       "31         儿    4\n",
       "82         学    4\n",
       "80         子    4\n",
       "133        电    4\n",
       "..       ...  ...\n",
       "74         太    1\n",
       "27         作    1\n",
       "72         大    1\n",
       "28         你    1\n",
       "172        高    1\n",
       "\n",
       "[173 rows x 2 columns]"
      ]
     },
     "execution_count": 75,
     "metadata": {},
     "output_type": "execute_result"
    }
   ],
   "source": [
    "df_qtd = pd.DataFrame()\n",
    "df_qtd['caracter'] = lista\n",
    "df_qtd = df_qtd.groupby('caracter').size().reset_index(name='qtd')\n",
    "df_qtd.sort_values('qtd', ascending=False)"
   ]
  }
 ],
 "metadata": {
  "kernelspec": {
   "display_name": "Python 3",
   "language": "python",
   "name": "python3"
  },
  "language_info": {
   "codemirror_mode": {
    "name": "ipython",
    "version": 3
   },
   "file_extension": ".py",
   "mimetype": "text/x-python",
   "name": "python",
   "nbconvert_exporter": "python",
   "pygments_lexer": "ipython3",
   "version": "3.8.3"
  }
 },
 "nbformat": 4,
 "nbformat_minor": 4
}
